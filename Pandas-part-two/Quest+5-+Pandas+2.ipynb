{
 "cells": [
  {
   "cell_type": "markdown",
   "metadata": {},
   "source": [
    "## Rishab Vaishya\n",
    "## Class - CSE 8392 Special Topics (Advanced Application Programming) \n",
    "## Quest 5 - Pandas 2\n",
    "## SMU ID – 47505527\n",
    "<br><br>\n",
    "# Part A. States and area codes\n",
    "\n",
    "we read from the states.areacodes.csv and display the 1st 5 rows of the data"
   ]
  },
  {
   "cell_type": "code",
   "execution_count": 497,
   "metadata": {},
   "outputs": [
    {
     "data": {
      "text/html": [
       "<div>\n",
       "<style>\n",
       "    .dataframe thead tr:only-child th {\n",
       "        text-align: right;\n",
       "    }\n",
       "\n",
       "    .dataframe thead th {\n",
       "        text-align: left;\n",
       "    }\n",
       "\n",
       "    .dataframe tbody tr th {\n",
       "        vertical-align: top;\n",
       "    }\n",
       "</style>\n",
       "<table border=\"1\" class=\"dataframe\">\n",
       "  <thead>\n",
       "    <tr style=\"text-align: right;\">\n",
       "      <th></th>\n",
       "      <th>ï»¿Area code</th>\n",
       "      <th>State</th>\n",
       "      <th>State code</th>\n",
       "    </tr>\n",
       "  </thead>\n",
       "  <tbody>\n",
       "    <tr>\n",
       "      <th>0</th>\n",
       "      <td>201</td>\n",
       "      <td>New Jersey</td>\n",
       "      <td>NJ</td>\n",
       "    </tr>\n",
       "    <tr>\n",
       "      <th>1</th>\n",
       "      <td>202</td>\n",
       "      <td>Washington,DC</td>\n",
       "      <td>DC</td>\n",
       "    </tr>\n",
       "    <tr>\n",
       "      <th>2</th>\n",
       "      <td>203</td>\n",
       "      <td>Connecticut</td>\n",
       "      <td>CT</td>\n",
       "    </tr>\n",
       "    <tr>\n",
       "      <th>3</th>\n",
       "      <td>205</td>\n",
       "      <td>Alabama</td>\n",
       "      <td>AL</td>\n",
       "    </tr>\n",
       "    <tr>\n",
       "      <th>4</th>\n",
       "      <td>206</td>\n",
       "      <td>Washington</td>\n",
       "      <td>WA</td>\n",
       "    </tr>\n",
       "  </tbody>\n",
       "</table>\n",
       "</div>"
      ],
      "text/plain": [
       "   ï»¿Area code          State State code\n",
       "0           201     New Jersey         NJ\n",
       "1           202  Washington,DC         DC\n",
       "2           203    Connecticut         CT\n",
       "3           205        Alabama         AL\n",
       "4           206     Washington         WA"
      ]
     },
     "execution_count": 497,
     "metadata": {},
     "output_type": "execute_result"
    }
   ],
   "source": [
    "import pandas as pd\n",
    "\n",
    "csvfile = open(r'D:\\\\Documents\\Notes\\CSE - 7345 - Advance Application Programming\\Assignment 5\\states.areacodes.csv', 'r')\n",
    "area_codes = pd.read_csv(csvfile)\n",
    "\n",
    "# head functios shows only the top 5 rows of the table\n",
    "area_codes.head()"
   ]
  },
  {
   "cell_type": "markdown",
   "metadata": {},
   "source": [
    "Now, make a list of all the non state present in the dataframe & remove it using 'isin' function & taking '~' negation of it"
   ]
  },
  {
   "cell_type": "code",
   "execution_count": 498,
   "metadata": {},
   "outputs": [
    {
     "data": {
      "text/html": [
       "<div>\n",
       "<style>\n",
       "    .dataframe thead tr:only-child th {\n",
       "        text-align: right;\n",
       "    }\n",
       "\n",
       "    .dataframe thead th {\n",
       "        text-align: left;\n",
       "    }\n",
       "\n",
       "    .dataframe tbody tr th {\n",
       "        vertical-align: top;\n",
       "    }\n",
       "</style>\n",
       "<table border=\"1\" class=\"dataframe\">\n",
       "  <thead>\n",
       "    <tr style=\"text-align: right;\">\n",
       "      <th></th>\n",
       "      <th>ï»¿Area code</th>\n",
       "      <th>State</th>\n",
       "      <th>State code</th>\n",
       "    </tr>\n",
       "  </thead>\n",
       "  <tbody>\n",
       "    <tr>\n",
       "      <th>0</th>\n",
       "      <td>201</td>\n",
       "      <td>New Jersey</td>\n",
       "      <td>NJ</td>\n",
       "    </tr>\n",
       "    <tr>\n",
       "      <th>2</th>\n",
       "      <td>203</td>\n",
       "      <td>Connecticut</td>\n",
       "      <td>CT</td>\n",
       "    </tr>\n",
       "    <tr>\n",
       "      <th>3</th>\n",
       "      <td>205</td>\n",
       "      <td>Alabama</td>\n",
       "      <td>AL</td>\n",
       "    </tr>\n",
       "    <tr>\n",
       "      <th>4</th>\n",
       "      <td>206</td>\n",
       "      <td>Washington</td>\n",
       "      <td>WA</td>\n",
       "    </tr>\n",
       "    <tr>\n",
       "      <th>5</th>\n",
       "      <td>207</td>\n",
       "      <td>Maine</td>\n",
       "      <td>ME</td>\n",
       "    </tr>\n",
       "  </tbody>\n",
       "</table>\n",
       "</div>"
      ],
      "text/plain": [
       "   ï»¿Area code        State State code\n",
       "0           201   New Jersey         NJ\n",
       "2           203  Connecticut         CT\n",
       "3           205      Alabama         AL\n",
       "4           206   Washington         WA\n",
       "5           207        Maine         ME"
      ]
     },
     "execution_count": 498,
     "metadata": {},
     "output_type": "execute_result"
    }
   ],
   "source": [
    "non_US_state_codes = ['DC','AS','GU','MP','PR','VI']\n",
    "\n",
    "# removes all rows having state codes from the above list \n",
    "area_codes = area_codes[~area_codes['State code'].isin(non_US_state_codes)]\n",
    "\n",
    "# head functios shows only the top 5 rows of the table\n",
    "area_codes.head()"
   ]
  },
  {
   "cell_type": "markdown",
   "metadata": {},
   "source": [
    "here we do the following in sequence\n",
    "\n",
    "1. sort the data in ascending order.\n",
    "2. group by states\n",
    "3. filter the group who has length == 1\n",
    "4. display the group by their size."
   ]
  },
  {
   "cell_type": "code",
   "execution_count": 499,
   "metadata": {},
   "outputs": [
    {
     "data": {
      "text/plain": [
       "State\n",
       "Alaska           1\n",
       "Delaware         1\n",
       "Hawaii           1\n",
       "Idaho            1\n",
       "Maine            1\n",
       "Montana          1\n",
       "New Hampshire    1\n",
       "New Mexico       1\n",
       "North Dakota     1\n",
       "Rhode Island     1\n",
       "South Dakota     1\n",
       "Vermont          1\n",
       "West Virginia    1\n",
       "Wyoming          1\n",
       "dtype: int64"
      ]
     },
     "execution_count": 499,
     "metadata": {},
     "output_type": "execute_result"
    }
   ],
   "source": [
    "# 1. sort the data in ascending order.\n",
    "area_codes = area_codes.sort_values(['State'],ascending=True)\n",
    "\n",
    "# 2. group by states\n",
    "area_codes_grouped = area_codes.groupby(['State'])\n",
    "\n",
    "# 3. filter the group who has length == 1\n",
    "area_codes_filtered = area_codes_grouped.filter(lambda area_codes_groupby_state: len(area_codes_groupby_state) == 1)\n",
    "\n",
    "# 4. display the group by their size.\n",
    "area_codes_filtered.groupby('State').size()"
   ]
  },
  {
   "cell_type": "markdown",
   "metadata": {},
   "source": [
    "# Part B. Zipcodes and States\n",
    "\n",
    "we read from the zipcodes.states.gps.csv and display the 1st 5 rows of the data"
   ]
  },
  {
   "cell_type": "code",
   "execution_count": 500,
   "metadata": {},
   "outputs": [
    {
     "data": {
      "text/html": [
       "<div>\n",
       "<style>\n",
       "    .dataframe thead tr:only-child th {\n",
       "        text-align: right;\n",
       "    }\n",
       "\n",
       "    .dataframe thead th {\n",
       "        text-align: left;\n",
       "    }\n",
       "\n",
       "    .dataframe tbody tr th {\n",
       "        vertical-align: top;\n",
       "    }\n",
       "</style>\n",
       "<table border=\"1\" class=\"dataframe\">\n",
       "  <thead>\n",
       "    <tr style=\"text-align: right;\">\n",
       "      <th></th>\n",
       "      <th>zip_code</th>\n",
       "      <th>latitude</th>\n",
       "      <th>longitude</th>\n",
       "      <th>city</th>\n",
       "      <th>state</th>\n",
       "      <th>county</th>\n",
       "    </tr>\n",
       "  </thead>\n",
       "  <tbody>\n",
       "    <tr>\n",
       "      <th>0</th>\n",
       "      <td>501</td>\n",
       "      <td>40.922326</td>\n",
       "      <td>-72.637078</td>\n",
       "      <td>Holtsville</td>\n",
       "      <td>NY</td>\n",
       "      <td>Suffolk</td>\n",
       "    </tr>\n",
       "    <tr>\n",
       "      <th>1</th>\n",
       "      <td>544</td>\n",
       "      <td>40.922326</td>\n",
       "      <td>-72.637078</td>\n",
       "      <td>Holtsville</td>\n",
       "      <td>NY</td>\n",
       "      <td>Suffolk</td>\n",
       "    </tr>\n",
       "    <tr>\n",
       "      <th>2</th>\n",
       "      <td>601</td>\n",
       "      <td>18.165273</td>\n",
       "      <td>-66.722583</td>\n",
       "      <td>Adjuntas</td>\n",
       "      <td>PR</td>\n",
       "      <td>Adjuntas</td>\n",
       "    </tr>\n",
       "    <tr>\n",
       "      <th>3</th>\n",
       "      <td>602</td>\n",
       "      <td>18.393103</td>\n",
       "      <td>-67.180953</td>\n",
       "      <td>Aguada</td>\n",
       "      <td>PR</td>\n",
       "      <td>Aguada</td>\n",
       "    </tr>\n",
       "    <tr>\n",
       "      <th>4</th>\n",
       "      <td>603</td>\n",
       "      <td>18.455913</td>\n",
       "      <td>-67.145780</td>\n",
       "      <td>Aguadilla</td>\n",
       "      <td>PR</td>\n",
       "      <td>Aguadilla</td>\n",
       "    </tr>\n",
       "  </tbody>\n",
       "</table>\n",
       "</div>"
      ],
      "text/plain": [
       "   zip_code   latitude  longitude        city state     county\n",
       "0       501  40.922326 -72.637078  Holtsville    NY    Suffolk\n",
       "1       544  40.922326 -72.637078  Holtsville    NY    Suffolk\n",
       "2       601  18.165273 -66.722583    Adjuntas    PR   Adjuntas\n",
       "3       602  18.393103 -67.180953      Aguada    PR     Aguada\n",
       "4       603  18.455913 -67.145780   Aguadilla    PR  Aguadilla"
      ]
     },
     "execution_count": 500,
     "metadata": {},
     "output_type": "execute_result"
    }
   ],
   "source": [
    "csvfile = open(r'D:\\\\Documents\\Notes\\CSE - 7345 - Advance Application Programming\\Assignment 5\\zipcodes.states.gps.csv', 'r')\n",
    "zipcodes_state_gps = pd.read_csv(csvfile)\n",
    "\n",
    "# head functios shows only the top 5 rows of the table\n",
    "zipcodes_state_gps.head()"
   ]
  },
  {
   "cell_type": "markdown",
   "metadata": {},
   "source": [
    " we import matplot lib then customize the graph, so that the bar chart is displayed properly\n",
    " \n",
    " 1. we first group the data by states & keep only the 'zip_code' column \n",
    " 2. sort values in decending\n",
    " 3. plot the bar graph"
   ]
  },
  {
   "cell_type": "code",
   "execution_count": 501,
   "metadata": {},
   "outputs": [
    {
     "data": {
      "text/plain": [
       "<matplotlib.axes._subplots.AxesSubplot at 0x2b7969b7630>"
      ]
     },
     "execution_count": 501,
     "metadata": {},
     "output_type": "execute_result"
    },
    {
     "data": {
      "image/png": "[encoded data removed]",
      "text/plain": [
       "<matplotlib.figure.Figure at 0x2b792546a58>"
      ]
     },
     "metadata": {},
     "output_type": "display_data"
    }
   ],
   "source": [
    "import matplotlib.pyplot as plt\n",
    "%matplotlib inline\n",
    "\n",
    "# edit graph settings to view it nicely\n",
    "plt.rcParams['figure.figsize'] = (15,8)\n",
    "plt.xlabel('X label size', size = 14)\n",
    "plt.yticks(size = 14)\n",
    "plt.xticks(size = 12)\n",
    "\n",
    "# 1. we first group the data by states & keep only the 'zip_code' column \n",
    "# 2. sort values in decending\n",
    "# 3. plot the bar graph\n",
    "zipcodes_state_gps.groupby('state')['zip_code'].size().sort_values(ascending=False).plot(kind='bar')"
   ]
  },
  {
   "cell_type": "markdown",
   "metadata": {},
   "source": [
    "# Part C. Films\n",
    "\n",
    "we read from the films2.csv and display the 1st 5 rows of the data"
   ]
  },
  {
   "cell_type": "code",
   "execution_count": 502,
   "metadata": {},
   "outputs": [
    {
     "data": {
      "text/html": [
       "<div>\n",
       "<style>\n",
       "    .dataframe thead tr:only-child th {\n",
       "        text-align: right;\n",
       "    }\n",
       "\n",
       "    .dataframe thead th {\n",
       "        text-align: left;\n",
       "    }\n",
       "\n",
       "    .dataframe tbody tr th {\n",
       "        vertical-align: top;\n",
       "    }\n",
       "</style>\n",
       "<table border=\"1\" class=\"dataframe\">\n",
       "  <thead>\n",
       "    <tr style=\"text-align: right;\">\n",
       "      <th></th>\n",
       "      <th>ï»¿Year</th>\n",
       "      <th>Length</th>\n",
       "      <th>Title</th>\n",
       "      <th>Subject</th>\n",
       "      <th>Actor</th>\n",
       "      <th>Actress</th>\n",
       "      <th>Director</th>\n",
       "      <th>Popularity</th>\n",
       "      <th>Awards</th>\n",
       "      <th>*Image,,,,,</th>\n",
       "    </tr>\n",
       "  </thead>\n",
       "  <tbody>\n",
       "    <tr>\n",
       "      <th>0</th>\n",
       "      <td>1990</td>\n",
       "      <td>111.0</td>\n",
       "      <td>Tie Me Up! Tie Me Down!</td>\n",
       "      <td>Comedy</td>\n",
       "      <td>Banderas, Antonio</td>\n",
       "      <td>Abril, Victoria</td>\n",
       "      <td>AlmodÃ³var, Pedro</td>\n",
       "      <td>68.0</td>\n",
       "      <td>No</td>\n",
       "      <td>NicholasCage.png,,</td>\n",
       "    </tr>\n",
       "    <tr>\n",
       "      <th>1</th>\n",
       "      <td>1991</td>\n",
       "      <td>113.0</td>\n",
       "      <td>High Heels</td>\n",
       "      <td>Comedy</td>\n",
       "      <td>BosÃ©, Miguel</td>\n",
       "      <td>Abril, Victoria</td>\n",
       "      <td>AlmodÃ³var, Pedro</td>\n",
       "      <td>68.0</td>\n",
       "      <td>No</td>\n",
       "      <td>NicholasCage.png,,</td>\n",
       "    </tr>\n",
       "    <tr>\n",
       "      <th>2</th>\n",
       "      <td>1983</td>\n",
       "      <td>104.0</td>\n",
       "      <td>Dead Zone, The</td>\n",
       "      <td>Horror</td>\n",
       "      <td>Walken, Christopher</td>\n",
       "      <td>Adams, Brooke</td>\n",
       "      <td>Cronenberg, David</td>\n",
       "      <td>79.0</td>\n",
       "      <td>No</td>\n",
       "      <td>NicholasCage.png,</td>\n",
       "    </tr>\n",
       "    <tr>\n",
       "      <th>3</th>\n",
       "      <td>1979</td>\n",
       "      <td>122.0</td>\n",
       "      <td>Cuba</td>\n",
       "      <td>Action</td>\n",
       "      <td>Connery, Sean</td>\n",
       "      <td>Adams, Brooke</td>\n",
       "      <td>Lester, Richard</td>\n",
       "      <td>6.0</td>\n",
       "      <td>No</td>\n",
       "      <td>seanConnery.png,,</td>\n",
       "    </tr>\n",
       "    <tr>\n",
       "      <th>4</th>\n",
       "      <td>1978</td>\n",
       "      <td>94.0</td>\n",
       "      <td>Days of Heaven</td>\n",
       "      <td>Drama</td>\n",
       "      <td>Gere, Richard</td>\n",
       "      <td>Adams, Brooke</td>\n",
       "      <td>Malick, Terrence</td>\n",
       "      <td>14.0</td>\n",
       "      <td>No</td>\n",
       "      <td>NicholasCage.png,,</td>\n",
       "    </tr>\n",
       "  </tbody>\n",
       "</table>\n",
       "</div>"
      ],
      "text/plain": [
       "   ï»¿Year  Length                    Title Subject                Actor  \\\n",
       "0     1990   111.0  Tie Me Up! Tie Me Down!  Comedy    Banderas, Antonio   \n",
       "1     1991   113.0               High Heels  Comedy        BosÃ©, Miguel   \n",
       "2     1983   104.0           Dead Zone, The  Horror  Walken, Christopher   \n",
       "3     1979   122.0                     Cuba  Action        Connery, Sean   \n",
       "4     1978    94.0           Days of Heaven   Drama        Gere, Richard   \n",
       "\n",
       "           Actress           Director  Popularity Awards         *Image,,,,,  \n",
       "0  Abril, Victoria  AlmodÃ³var, Pedro        68.0     No  NicholasCage.png,,  \n",
       "1  Abril, Victoria  AlmodÃ³var, Pedro        68.0     No  NicholasCage.png,,  \n",
       "2    Adams, Brooke  Cronenberg, David        79.0     No   NicholasCage.png,  \n",
       "3    Adams, Brooke    Lester, Richard         6.0     No   seanConnery.png,,  \n",
       "4    Adams, Brooke   Malick, Terrence        14.0     No  NicholasCage.png,,  "
      ]
     },
     "execution_count": 502,
     "metadata": {},
     "output_type": "execute_result"
    }
   ],
   "source": [
    "csvfile = open(r'D:\\\\Documents\\Notes\\CSE - 7345 - Advance Application Programming\\Assignment 5\\films2.csv', 'r')\n",
    "films = pd.read_csv(csvfile)\n",
    "\n",
    "# head functios shows only the top 5 rows of the table\n",
    "films.head()"
   ]
  },
  {
   "cell_type": "markdown",
   "metadata": {},
   "source": [
    "Here we are doing the following\n",
    "\n",
    "1. we merge 'Westerns' into 'Western'\n",
    "2. Add another column name 'nFilms' which holds the count the count of group subject & actor\n",
    "3. get max value of 'nFilms' for each row using idmax() function\n",
    "4. display the result"
   ]
  },
  {
   "cell_type": "code",
   "execution_count": 503,
   "metadata": {
    "scrolled": false
   },
   "outputs": [
    {
     "data": {
      "text/html": [
       "<div>\n",
       "<style>\n",
       "    .dataframe thead tr:only-child th {\n",
       "        text-align: right;\n",
       "    }\n",
       "\n",
       "    .dataframe thead th {\n",
       "        text-align: left;\n",
       "    }\n",
       "\n",
       "    .dataframe tbody tr th {\n",
       "        vertical-align: top;\n",
       "    }\n",
       "</style>\n",
       "<table border=\"1\" class=\"dataframe\">\n",
       "  <thead>\n",
       "    <tr style=\"text-align: right;\">\n",
       "      <th></th>\n",
       "      <th>Subject</th>\n",
       "      <th>Actor</th>\n",
       "      <th>nFilms</th>\n",
       "    </tr>\n",
       "  </thead>\n",
       "  <tbody>\n",
       "    <tr>\n",
       "      <th>15</th>\n",
       "      <td>Action</td>\n",
       "      <td>Connery, Sean</td>\n",
       "      <td>15</td>\n",
       "    </tr>\n",
       "    <tr>\n",
       "      <th>321</th>\n",
       "      <td>Comedy</td>\n",
       "      <td>Sellers, Peter</td>\n",
       "      <td>22</td>\n",
       "    </tr>\n",
       "    <tr>\n",
       "      <th>399</th>\n",
       "      <td>Drama</td>\n",
       "      <td>Brando, Marlon</td>\n",
       "      <td>17</td>\n",
       "    </tr>\n",
       "    <tr>\n",
       "      <th>739</th>\n",
       "      <td>Horror</td>\n",
       "      <td>Ford, Wallace</td>\n",
       "      <td>3</td>\n",
       "    </tr>\n",
       "    <tr>\n",
       "      <th>822</th>\n",
       "      <td>Mystery</td>\n",
       "      <td>Connery, Sean</td>\n",
       "      <td>3</td>\n",
       "    </tr>\n",
       "    <tr>\n",
       "      <th>915</th>\n",
       "      <td>Science Fiction</td>\n",
       "      <td>Hamill, Mark</td>\n",
       "      <td>3</td>\n",
       "    </tr>\n",
       "    <tr>\n",
       "      <th>956</th>\n",
       "      <td>War</td>\n",
       "      <td>Wayne, John</td>\n",
       "      <td>10</td>\n",
       "    </tr>\n",
       "    <tr>\n",
       "      <th>996</th>\n",
       "      <td>Western</td>\n",
       "      <td>Wayne, John</td>\n",
       "      <td>46</td>\n",
       "    </tr>\n",
       "  </tbody>\n",
       "</table>\n",
       "</div>"
      ],
      "text/plain": [
       "             Subject           Actor  nFilms\n",
       "15            Action   Connery, Sean      15\n",
       "321           Comedy  Sellers, Peter      22\n",
       "399            Drama  Brando, Marlon      17\n",
       "739           Horror   Ford, Wallace       3\n",
       "822          Mystery   Connery, Sean       3\n",
       "915  Science Fiction    Hamill, Mark       3\n",
       "956              War     Wayne, John      10\n",
       "996          Western     Wayne, John      46"
      ]
     },
     "execution_count": 503,
     "metadata": {},
     "output_type": "execute_result"
    }
   ],
   "source": [
    "# 1. replace westerns to western \n",
    "films = films.replace('Westerns', 'Western')\n",
    "\n",
    "# 2. group by 'Subject' & 'Actor'\n",
    "films = films.groupby(['Subject','Actor']).size().reset_index(name=\"nFilms\")\n",
    "\n",
    "# remove all rows with nFilms == 1\n",
    "films = films[films.nFilms !=1]\n",
    "\n",
    "# get max value of 'nFilms' for each row using idmax() function\n",
    "films = films.loc[films.groupby([\"Subject\"], sort=False)[\"nFilms\"].idxmax()][[\"Subject\",\"Actor\",\"nFilms\"]]\n",
    "\n",
    "films"
   ]
  },
  {
   "cell_type": "markdown",
   "metadata": {},
   "source": [
    "# Part D. Stock Trading Algorithm with Moving Averages (MA)\n",
    "\n",
    "we read from the SPY.histdata.csv and display the 1st 5 rows of the data after doing the following editions\n",
    "\n",
    "1. sort the values in Date ascendng\n",
    "2. add the moving verage column\n",
    "3. drop rows with NaN values for 'MA100' columns"
   ]
  },
  {
   "cell_type": "code",
   "execution_count": 504,
   "metadata": {},
   "outputs": [
    {
     "data": {
      "text/html": [
       "<div>\n",
       "<style>\n",
       "    .dataframe thead tr:only-child th {\n",
       "        text-align: right;\n",
       "    }\n",
       "\n",
       "    .dataframe thead th {\n",
       "        text-align: left;\n",
       "    }\n",
       "\n",
       "    .dataframe tbody tr th {\n",
       "        vertical-align: top;\n",
       "    }\n",
       "</style>\n",
       "<table border=\"1\" class=\"dataframe\">\n",
       "  <thead>\n",
       "    <tr style=\"text-align: right;\">\n",
       "      <th></th>\n",
       "      <th>Date</th>\n",
       "      <th>SPY</th>\n",
       "      <th>MA100</th>\n",
       "    </tr>\n",
       "  </thead>\n",
       "  <tbody>\n",
       "    <tr>\n",
       "      <th>4602</th>\n",
       "      <td>2000-05-24</td>\n",
       "      <td>99.5118</td>\n",
       "      <td>101.376287</td>\n",
       "    </tr>\n",
       "    <tr>\n",
       "      <th>4601</th>\n",
       "      <td>2000-05-25</td>\n",
       "      <td>97.8044</td>\n",
       "      <td>101.325023</td>\n",
       "    </tr>\n",
       "    <tr>\n",
       "      <th>4600</th>\n",
       "      <td>2000-05-26</td>\n",
       "      <td>97.9153</td>\n",
       "      <td>101.315119</td>\n",
       "    </tr>\n",
       "    <tr>\n",
       "      <th>4599</th>\n",
       "      <td>2000-05-30</td>\n",
       "      <td>101.1082</td>\n",
       "      <td>101.335375</td>\n",
       "    </tr>\n",
       "    <tr>\n",
       "      <th>4598</th>\n",
       "      <td>2000-05-31</td>\n",
       "      <td>101.3300</td>\n",
       "      <td>101.373773</td>\n",
       "    </tr>\n",
       "  </tbody>\n",
       "</table>\n",
       "</div>"
      ],
      "text/plain": [
       "           Date       SPY       MA100\n",
       "4602 2000-05-24   99.5118  101.376287\n",
       "4601 2000-05-25   97.8044  101.325023\n",
       "4600 2000-05-26   97.9153  101.315119\n",
       "4599 2000-05-30  101.1082  101.335375\n",
       "4598 2000-05-31  101.3300  101.373773"
      ]
     },
     "execution_count": 504,
     "metadata": {},
     "output_type": "execute_result"
    }
   ],
   "source": [
    "csvfile = open(r'D:\\\\Documents\\Notes\\CSE - 7345 - Advance Application Programming\\Assignment 5\\SPY.histdata.csv', 'r')\n",
    "SPY_hist_data = pd.read_csv(csvfile, parse_dates=['Date'])\n",
    "\n",
    "# sort the values in Date ascendng\n",
    "SPY_hist_data = SPY_hist_data.sort_values(by='Date', ascending=True)\n",
    "\n",
    "# add the moving verage column\n",
    "SPY_hist_data['MA100'] = SPY_hist_data['SPY'].rolling(100).mean()\n",
    "\n",
    "# drop rows with NaN values for 'MA100' columns\n",
    "SPY_hist_data = SPY_hist_data.dropna()\n",
    "\n",
    "# head functios shows only the top 5 rows of the table\n",
    "SPY_hist_data.head()"
   ]
  },
  {
   "cell_type": "code",
   "execution_count": 505,
   "metadata": {
    "scrolled": false
   },
   "outputs": [
    {
     "name": "stdout",
     "output_type": "stream",
     "text": [
      "balance =  2169.0758636030896\n",
      "percentage profit =  116.90758636030895 %\n",
      "number of stocks =  0\n",
      "Buy count =  107\n",
      "Sell count =  107\n"
     ]
    }
   ],
   "source": [
    "balance1 = 1000.0\n",
    "number_of_stocks = 0.0\n",
    "\n",
    "# saving values to plot graph later\n",
    "buy_array = []\n",
    "buy_date_array = []\n",
    "sell_array = []\n",
    "sell_date_array = []\n",
    "\n",
    "\n",
    "# iterating through each day from the SPY_hist_data\n",
    "for index, row in SPY_hist_data.iterrows() :\n",
    "    \n",
    "    # sell if we still have stocks in had on the last day\n",
    "    if index == 0 :\n",
    "        if number_of_stocks > 0 :\n",
    "            balance1 = row['SPY'] * number_of_stocks \n",
    "            number_of_stocks = 0\n",
    "            \n",
    "            # log transactions in an array\n",
    "            sell_array.append(row['SPY'])\n",
    "            sell_date_array.append(row['Date'])\n",
    "\n",
    "    # for all indexes other than 0         \n",
    "    else :\n",
    "        # buy if number of stocks ==0 & SPY crosses MA100 \n",
    "        if number_of_stocks == 0 and row['SPY'] > row['MA100'] :\n",
    "            number_of_stocks += balance1 / row['SPY']\n",
    "            balance1 = 0\n",
    "            \n",
    "            # log transactions in an array\n",
    "            buy_array.append(row['SPY'])\n",
    "            buy_date_array.append(row['Date'])\n",
    "            \n",
    "        # sell if number of stocks > 0 & SPY crosses MA100 \n",
    "        elif number_of_stocks > 0 and row['SPY'] < row['MA100'] :\n",
    "            balance1 += row['SPY'] * number_of_stocks \n",
    "            number_of_stocks = 0\n",
    "            \n",
    "            # log transactions in an array\n",
    "            sell_array.append(row['SPY'])\n",
    "            sell_date_array.append(row['Date'])\n",
    "            \n",
    "# print the details after the algorithm is complete\n",
    "print('balance = ',balance1)\n",
    "print ('percentage profit = ',(((balance1-1000))/1000)*100,'%')\n",
    "print('number of stocks = ',number_of_stocks)\n",
    "print('Buy count = ',len(buy_array))            \n",
    "print('Sell count = ',len(sell_array))"
   ]
  },
  {
   "cell_type": "markdown",
   "metadata": {},
   "source": [
    "## plot timeline graph \n",
    "\n",
    "this is showing the timeline of buying & selling transactions made in these 18 years"
   ]
  },
  {
   "cell_type": "code",
   "execution_count": 506,
   "metadata": {
    "scrolled": false
   },
   "outputs": [
    {
     "data": {
      "image/png": "[encoded data removed]",
      "text/plain": [
       "<matplotlib.figure.Figure at 0x2b796ca9e48>"
      ]
     },
     "metadata": {},
     "output_type": "display_data"
    }
   ],
   "source": [
    "plt.rcParams[\"figure.figsize\"] = [22,10]\n",
    "\n",
    "plt.plot(range(len(sell_date_array)), sell_array)\n",
    "plt.plot(range(len(buy_date_array)), buy_array)\n",
    "\n",
    "plt.title(\"TimeLine\\n\")\n",
    "\n",
    "plt.xlabel(\"\\n\\n\\n Dates\\n Buying Count = %d  ,  Selling Count = %d\" % (len(buy_array), len(buy_array)), size = 16)\n",
    "plt.ylabel(\"Price\\n\\n\", size = 14)\n",
    "\n",
    "plt.legend(['Selling Timeline','Buying Timeline' ], loc='upper left')\n",
    "plt.yticks(size = 16)\n",
    "plt.xticks(range(len(sell_date_array)), sell_date_array, size = 10,rotation='vertical')\n",
    "\n",
    "plt.show()"
   ]
  },
  {
   "cell_type": "markdown",
   "metadata": {},
   "source": [
    "## Implementing buy & hold strategy\n",
    "\n",
    "we fetch the 1st & last row from the dataframe & calculate the profit when implementing the buy & hold strategy"
   ]
  },
  {
   "cell_type": "code",
   "execution_count": 507,
   "metadata": {},
   "outputs": [
    {
     "name": "stdout",
     "output_type": "stream",
     "text": [
      "balance =  2895.1340444047846\n",
      "percentage profit =  189.51340444047847 %\n",
      "number of stocks =  0\n"
     ]
    }
   ],
   "source": [
    "first_SPY_value = SPY_hist_data.iloc[0,1]\n",
    "last_SPY_value = SPY_hist_data.iloc[-1,1]\n",
    "\n",
    "balance2 =1000\n",
    "number_of_stocks += balance2 / first_SPY_value\n",
    "balance2 = last_SPY_value * number_of_stocks \n",
    "number_of_stocks = 0\n",
    "            \n",
    "print('balance = ',balance2)\n",
    "print ('percentage profit = ',(((balance2-1000))/1000)*100,'%')\n",
    "print('number of stocks = ',number_of_stocks)\n"
   ]
  },
  {
   "cell_type": "markdown",
   "metadata": {},
   "source": [
    "as we can see that the 'Buy & Hold strategy' has more balance at the end of 18 years than the algorithm we implemented.\n",
    "\n",
    "# comparing the 2 Strategies\n",
    "\n",
    "we now plot the balance found after 18 years using both the strategies"
   ]
  },
  {
   "cell_type": "code",
   "execution_count": 508,
   "metadata": {},
   "outputs": [
    {
     "data": {
      "image/png": "[encoded data removed]",
      "text/plain": [
       "<matplotlib.figure.Figure at 0x2b7971c20b8>"
      ]
     },
     "metadata": {},
     "output_type": "display_data"
    }
   ],
   "source": [
    "plt.rcParams[\"figure.figsize\"] = [15,5]\n",
    "\n",
    "startegyList = ['Our Algorithm\\n Balance = %f\\nPercentage Profit = %f' % (balance1,(((balance1-1000))/1000)*100),'Buy & Hold\\n Balance =%f\\nPercentage Profit = %f' % (balance2,(((balance2-1000))/1000)*100)]\n",
    "balanceList = [balance1, balance2]\n",
    "\n",
    "bars = plt.bar(range(len(startegyList)), balanceList)\n",
    "plt.title(\"Comparing the times of 2 Strategies\\n(Higher the better)\")\n",
    "\n",
    "plt.xlabel(\"\\n\\n\\nStrategies\", size = 14)\n",
    "plt.ylabel(\"Balance in the End\\n\\n\", size = 14)\n",
    "\n",
    "plt.yticks(size = 14)\n",
    "plt.xticks(range(len(startegyList)), startegyList, size = 12)\n",
    "\n",
    "plt.show()"
   ]
  }
 ],
 "metadata": {
  "kernelspec": {
   "display_name": "Python 3",
   "language": "python",
   "name": "python3"
  },
  "language_info": {
   "codemirror_mode": {
    "name": "ipython",
    "version": 3
   },
   "file_extension": ".py",
   "mimetype": "text/x-python",
   "name": "python",
   "nbconvert_exporter": "python",
   "pygments_lexer": "ipython3",
   "version": "3.6.3"
  }
 },
 "nbformat": 4,
 "nbformat_minor": 2
}
