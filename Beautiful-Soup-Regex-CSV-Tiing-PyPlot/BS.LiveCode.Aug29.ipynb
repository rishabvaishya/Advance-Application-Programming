{
 "cells": [
  {
   "cell_type": "code",
   "execution_count": 1,
   "metadata": {},
   "outputs": [],
   "source": [
    "import bs4\n",
    "from bs4 import BeautifulSoup\n",
    "import requests\n",
    "#the requests module may need to be imported into your python\n",
    "#other options include urllib or urllib3 but requests is the python preferred due to it's many features"
   ]
  },
  {
   "cell_type": "code",
   "execution_count": 2,
   "metadata": {},
   "outputs": [
    {
     "name": "stdout",
     "output_type": "stream",
     "text": [
      "13\n"
     ]
    }
   ],
   "source": [
    "#requests let us to requests.get or reqeusts.post and can accept a second dict parm of key-value pairs\n",
    "#we get back a response OBJECT\n",
    "response = requests.get(\"http://www.pythonscraping.com/pages/page3.html\")\n",
    "\n",
    "#the text is available as resonse.content\n",
    "soup = BeautifulSoup(response.content, \"html.parser\")\n",
    "\n",
    "#select the table we are looking for - it includes all the children we want\n",
    "tableNode = soup.find('table', {'id':'giftList'})\n",
    "\n",
    "#uncomment the next line to take a look at what we need to navigate over\n",
    "#print(tableNode.prettify())\n",
    "\n",
    "#tableNode.children is a list_iterator - let's look at how may children?\n",
    "childList = list(tableNode.children)\n",
    "print (len(childList) )  \n",
    "\n"
   ]
  },
  {
   "cell_type": "code",
   "execution_count": 3,
   "metadata": {},
   "outputs": [
    {
     "name": "stdout",
     "output_type": "stream",
     "text": [
      "6\n"
     ]
    }
   ],
   "source": [
    "# note that the list length = 13 why 13?\n",
    "# the answer is that we have white space (\\s) and \\n between the tags which technically are children of the table node\n",
    "\n",
    "# Strategy: let's use a python list comprehension with a filter to eliminate everything that is not a bs4.element.Tag\n",
    "childList  = [x for x in childList if type(x)  == bs4.element.Tag]\n",
    "print (len(childList))"
   ]
  },
  {
   "cell_type": "code",
   "execution_count": 4,
   "metadata": {},
   "outputs": [
    {
     "name": "stdout",
     "output_type": "stream",
     "text": [
      "['Vegetable Basket', 'Russian Nesting Dolls', 'Fish Painting', 'Dead Parrot', 'Mystery Box']\n",
      "['15.00', '10000.52', '10005.00', '0.50', '1.50']\n"
     ]
    }
   ],
   "source": [
    "#now we know we are only dealing with real nodes that can have children and these should be <td> elements\n",
    "import re\n",
    "itemList = []\n",
    "priceList = []\n",
    "for child in childList:\n",
    "    tdlist = child.find_all('td')\n",
    "    \n",
    "    #to be safe, let's make sure we have <td> column nodes\n",
    "    if (len(tdlist) > 0):\n",
    "        #we are interested in the first [0] and third [2] columns for description and price\n",
    "        #when we looked at the text we found '\\n' and the prices have '$' and commas which we don't want\n",
    "        #Let's use strip('\\n') and with regex power, can use re.sub with a character class to finish the job\n",
    "        item = tdlist[0].getText().strip('\\n')\n",
    "        price = tdlist[2].getText().strip('\\n')\n",
    "        # $10,000.50 -> 10000.50\n",
    "        price = re.sub('[,$]','',price)\n",
    "        itemList.append(item)\n",
    "        priceList.append(price)\n",
    "        \n",
    "print (itemList)\n",
    "print (priceList)        \n",
    "        \n",
    "        "
   ]
  },
  {
   "cell_type": "code",
   "execution_count": 5,
   "metadata": {},
   "outputs": [
    {
     "name": "stdout",
     "output_type": "stream",
     "text": [
      "[15.0, 10000.52, 10005.0, 0.5, 1.5]\n",
      "['Basket', 'Dolls', 'Painting', 'Parrot', 'Box']\n"
     ]
    }
   ],
   "source": [
    "# now let's convert the string to floats for our plots - let's use a list coomprehension\n",
    "priceListNum = [float(x) for x in priceList]\n",
    "print (priceListNum)\n",
    "\n",
    "#also our labels are long and overlap in the plot so let's just use the last word in the string\n",
    "#again, a list comprehension comes in handy - let's split to give us a list and then grab  LAST word in the string\n",
    "itemList = [str.split()[-1] for str in itemList]\n",
    "print (itemList)"
   ]
  },
  {
   "cell_type": "code",
   "execution_count": 6,
   "metadata": {},
   "outputs": [
    {
     "name": "stdout",
     "output_type": "stream",
     "text": [
      "[0, 1, 2, 3, 4]\n"
     ]
    }
   ],
   "source": [
    "#We are good to go to plot land\n",
    "import matplotlib.pyplot as plt\n",
    "import numpy as np\n",
    "%matplotlib inline\n",
    "\n",
    "x = itemList\n",
    "yval  = priceListNum\n",
    "\n",
    "#for pyplot: create a list of integers based on the size of our itemList\n",
    "x_pos = [i for i, _ in enumerate(x)]\n",
    "\n",
    "#have a look\n",
    "print (x_pos)"
   ]
  },
  {
   "cell_type": "code",
   "execution_count": 7,
   "metadata": {},
   "outputs": [
    {
     "data": {
      "image/png": "[encoded data removed]",
      "text/plain": [
       "<Figure size 432x288 with 1 Axes>"
      ]
     },
     "metadata": {},
     "output_type": "display_data"
    }
   ],
   "source": [
    "plt.bar(x_pos, yval, color='red')\n",
    "plt.xticks(x_pos, x)\n",
    "plt.xlabel(\"Item\")\n",
    "plt.ylabel(\"Price\")\n",
    "plt.title(\"Prices of our Fabulous Website\")\n",
    "plt.show()"
   ]
  },
  {
   "cell_type": "markdown",
   "metadata": {},
   "source": [
    "### To export this notebook as a python file or html or reveal.js slides or pdf using the File menu\n",
    "<code> File > Download as > PDF  </code>\n",
    "\n",
    "#### Or : if we are outside of jupyter we can create a python file using:\n",
    "<code>jupyter nbconvert --to script myfile.ipynb</code>\n",
    "\n"
   ]
  }
 ],
 "metadata": {
  "kernelspec": {
   "display_name": "Python 3",
   "language": "python",
   "name": "python3"
  },
  "language_info": {
   "codemirror_mode": {
    "name": "ipython",
    "version": 3
   },
   "file_extension": ".py",
   "mimetype": "text/x-python",
   "name": "python",
   "nbconvert_exporter": "python",
   "pygments_lexer": "ipython3",
   "version": "3.6.5"
  }
 },
 "nbformat": 4,
 "nbformat_minor": 2
}
